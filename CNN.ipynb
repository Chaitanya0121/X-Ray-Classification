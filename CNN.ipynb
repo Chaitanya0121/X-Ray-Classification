{
 "cells": [
  {
   "cell_type": "markdown",
   "id": "8473adcf",
   "metadata": {},
   "source": [
    "## X-ray image classification using CNN"
   ]
  },
  {
   "cell_type": "markdown",
   "id": "e21e2917",
   "metadata": {},
   "source": [
    "### Importing the libraries"
   ]
  },
  {
   "cell_type": "code",
   "execution_count": 1,
   "id": "03878a89",
   "metadata": {},
   "outputs": [],
   "source": [
    "import tensorflow as tf\n",
    "import numpy as np\n",
    "import matplotlib.pyplot as plt\n",
    "from keras.preprocessing.image import ImageDataGenerator\n",
    "from keras.preprocessing import image"
   ]
  },
  {
   "cell_type": "markdown",
   "id": "e9ab7b0e",
   "metadata": {},
   "source": [
    "### Reading the data"
   ]
  },
  {
   "cell_type": "code",
   "execution_count": 2,
   "id": "21e07b53",
   "metadata": {},
   "outputs": [
    {
     "name": "stdout",
     "output_type": "stream",
     "text": [
      "Found 5216 images belonging to 2 classes.\n"
     ]
    }
   ],
   "source": [
    "#Preprocessing the training data\n",
    "\n",
    "train_data = ImageDataGenerator(rescale = 1./255,\n",
    "                                   shear_range = 0.2,\n",
    "                                   zoom_range = 0.2,\n",
    "                                   horizontal_flip = True)\n",
    "\n",
    "train = train_data.flow_from_directory('chest_xray/train',\n",
    "                                                 target_size = (64, 64),\n",
    "                                                 batch_size = 32,\n",
    "                                                 color_mode = 'grayscale', \n",
    "                                                 class_mode = 'binary')"
   ]
  },
  {
   "cell_type": "code",
   "execution_count": 3,
   "id": "fc388e85",
   "metadata": {},
   "outputs": [
    {
     "name": "stdout",
     "output_type": "stream",
     "text": [
      "Found 624 images belonging to 2 classes.\n"
     ]
    }
   ],
   "source": [
    "test_datagen = ImageDataGenerator(rescale = 1./255)\n",
    "test = test_datagen.flow_from_directory('chest_xray/test',\n",
    "                                            target_size = (64, 64),\n",
    "                                            batch_size = 32,\n",
    "                                            color_mode = 'grayscale', \n",
    "                                            class_mode = 'binary')"
   ]
  },
  {
   "cell_type": "markdown",
   "id": "6ad70b11",
   "metadata": {},
   "source": [
    "### Applying CNN model"
   ]
  },
  {
   "cell_type": "code",
   "execution_count": 4,
   "id": "636ed8c5",
   "metadata": {},
   "outputs": [],
   "source": [
    "CNN = tf.keras.models.Sequential()"
   ]
  },
  {
   "cell_type": "markdown",
   "id": "0c5016e9",
   "metadata": {},
   "source": [
    "### Adding the first Convolution layer and Maxpooling the data"
   ]
  },
  {
   "cell_type": "code",
   "execution_count": 5,
   "id": "3e15dfc3",
   "metadata": {},
   "outputs": [],
   "source": [
    "#Adding a Convolution layer with 64 filters and Maxpooling the dataset\n",
    "\n",
    "CNN.add(tf.keras.layers.Conv2D(filters = 64, kernel_size = 3, activation = 'relu', input_shape = [64, 64, 1]))  \n",
    "CNN.add(tf.keras.layers.MaxPool2D(pool_size = 2, strides = 2))"
   ]
  },
  {
   "cell_type": "markdown",
   "id": "3282b57d",
   "metadata": {},
   "source": [
    "### Adding the second Convolution layer and Maxpooling the data"
   ]
  },
  {
   "cell_type": "code",
   "execution_count": 6,
   "id": "b5050b26",
   "metadata": {},
   "outputs": [],
   "source": [
    "#Adding another Convolution layer with 32 filters and Maxpooling the dataset\n",
    "\n",
    "CNN.add(tf.keras.layers.Conv2D(filters = 32, kernel_size = 3, activation = 'relu'))  \n",
    "CNN.add(tf.keras.layers.MaxPool2D(pool_size = 2, strides = 2))"
   ]
  },
  {
   "cell_type": "markdown",
   "id": "12c59adf",
   "metadata": {},
   "source": [
    "### Applying Flattening to the data"
   ]
  },
  {
   "cell_type": "code",
   "execution_count": 7,
   "id": "26d5494b",
   "metadata": {},
   "outputs": [],
   "source": [
    "CNN.add(tf.keras.layers.Flatten())"
   ]
  },
  {
   "cell_type": "markdown",
   "id": "a120385a",
   "metadata": {},
   "source": [
    "### Adding Neurons and Output layer to CNN"
   ]
  },
  {
   "cell_type": "code",
   "execution_count": 8,
   "id": "9f11be69",
   "metadata": {},
   "outputs": [],
   "source": [
    "CNN.add(tf.keras.layers.Dense(units = 128, activation = 'relu'))\n",
    "CNN.add(tf.keras.layers.Dense(units = 1, activation = 'sigmoid'))"
   ]
  },
  {
   "cell_type": "markdown",
   "id": "89c6d8b5",
   "metadata": {},
   "source": [
    "### Training the model"
   ]
  },
  {
   "cell_type": "code",
   "execution_count": 9,
   "id": "cc0d5095",
   "metadata": {},
   "outputs": [
    {
     "name": "stdout",
     "output_type": "stream",
     "text": [
      "Epoch 1/15\n",
      "163/163 [==============================] - 47s 286ms/step - loss: 0.4089 - accuracy: 0.8202 - val_loss: 0.3323 - val_accuracy: 0.8446\n",
      "Epoch 2/15\n",
      "163/163 [==============================] - 48s 294ms/step - loss: 0.2460 - accuracy: 0.8940 - val_loss: 0.3701 - val_accuracy: 0.8429\n",
      "Epoch 3/15\n",
      "163/163 [==============================] - 47s 291ms/step - loss: 0.2063 - accuracy: 0.9156 - val_loss: 0.2694 - val_accuracy: 0.8910\n",
      "Epoch 4/15\n",
      "163/163 [==============================] - 48s 294ms/step - loss: 0.1967 - accuracy: 0.9179 - val_loss: 0.4848 - val_accuracy: 0.8510\n",
      "Epoch 5/15\n",
      "163/163 [==============================] - 48s 292ms/step - loss: 0.1870 - accuracy: 0.9293 - val_loss: 0.3977 - val_accuracy: 0.8365\n",
      "Epoch 6/15\n",
      "163/163 [==============================] - 47s 287ms/step - loss: 0.1652 - accuracy: 0.9356 - val_loss: 0.3939 - val_accuracy: 0.8574\n",
      "Epoch 7/15\n",
      "163/163 [==============================] - 48s 292ms/step - loss: 0.1577 - accuracy: 0.9383 - val_loss: 0.3165 - val_accuracy: 0.9022\n",
      "Epoch 8/15\n",
      "163/163 [==============================] - 47s 289ms/step - loss: 0.1594 - accuracy: 0.9417 - val_loss: 0.3638 - val_accuracy: 0.8686\n",
      "Epoch 9/15\n",
      "163/163 [==============================] - 47s 286ms/step - loss: 0.1571 - accuracy: 0.9408 - val_loss: 0.3407 - val_accuracy: 0.8862\n",
      "Epoch 10/15\n",
      "163/163 [==============================] - 47s 287ms/step - loss: 0.1363 - accuracy: 0.9467 - val_loss: 0.3526 - val_accuracy: 0.8830\n",
      "Epoch 11/15\n",
      "163/163 [==============================] - 47s 289ms/step - loss: 0.1504 - accuracy: 0.9434 - val_loss: 0.2757 - val_accuracy: 0.9054\n",
      "Epoch 12/15\n",
      "163/163 [==============================] - 48s 293ms/step - loss: 0.1432 - accuracy: 0.9452 - val_loss: 0.2617 - val_accuracy: 0.8990\n",
      "Epoch 13/15\n",
      "163/163 [==============================] - 48s 291ms/step - loss: 0.1380 - accuracy: 0.9482 - val_loss: 0.2684 - val_accuracy: 0.9022\n",
      "Epoch 14/15\n",
      "163/163 [==============================] - 48s 295ms/step - loss: 0.1336 - accuracy: 0.9480 - val_loss: 0.2975 - val_accuracy: 0.9054\n",
      "Epoch 15/15\n",
      "163/163 [==============================] - 48s 294ms/step - loss: 0.1300 - accuracy: 0.9507 - val_loss: 0.3148 - val_accuracy: 0.8958\n"
     ]
    },
    {
     "data": {
      "text/plain": [
       "<keras.callbacks.History at 0x12cac8efe20>"
      ]
     },
     "execution_count": 9,
     "metadata": {},
     "output_type": "execute_result"
    }
   ],
   "source": [
    "#Compiling the model\n",
    "\n",
    "CNN.compile(optimizer = 'adam', loss = 'binary_crossentropy', metrics = ['accuracy'])\n",
    "CNN.fit(x = train, validation_data = test, epochs = 15)"
   ]
  },
  {
   "cell_type": "markdown",
   "id": "8244e04e",
   "metadata": {},
   "source": [
    "### Evaluating the model"
   ]
  },
  {
   "cell_type": "code",
   "execution_count": 10,
   "id": "95fbaaec",
   "metadata": {},
   "outputs": [
    {
     "name": "stdout",
     "output_type": "stream",
     "text": [
      "20/20 [==============================] - 3s 170ms/step - loss: 0.3148 - accuracy: 0.8958\n"
     ]
    },
    {
     "data": {
      "text/plain": [
       "[0.31476104259490967, 0.8958333134651184]"
      ]
     },
     "execution_count": 10,
     "metadata": {},
     "output_type": "execute_result"
    }
   ],
   "source": [
    "CNN.evaluate(test)"
   ]
  }
 ],
 "metadata": {
  "kernelspec": {
   "display_name": "Python 3",
   "language": "python",
   "name": "python3"
  },
  "language_info": {
   "codemirror_mode": {
    "name": "ipython",
    "version": 3
   },
   "file_extension": ".py",
   "mimetype": "text/x-python",
   "name": "python",
   "nbconvert_exporter": "python",
   "pygments_lexer": "ipython3",
   "version": "3.9.6"
  }
 },
 "nbformat": 4,
 "nbformat_minor": 5
}
